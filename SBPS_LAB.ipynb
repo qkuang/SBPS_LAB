{
 "cells": [
  {
   "cell_type": "code",
   "execution_count": 1,
   "metadata": {
    "collapsed": true
   },
   "outputs": [],
   "source": [
    "import tensorflow as tf\n",
    "import numpy as np\n",
    "from samplers import *\n",
    "from utils import *\n",
    "import matplotlib.pyplot as plt\n",
    "%matplotlib inline \n",
    "from sklearn import linear_model\n",
    "import copy\n",
    "import scipy.stats\n",
    "import itertools\n",
    "import os\n",
    "import time\n",
    "sess = tf.InteractiveSession()"
   ]
  },
  {
   "cell_type": "code",
   "execution_count": 2,
   "metadata": {
    "collapsed": true
   },
   "outputs": [],
   "source": [
    "D =   2 \n",
    "N = 1000\n",
    "sigma=1\n",
    "c=0.1\n",
    "\n",
    "# Generate y since y~N(W0*W1*,1) where W0*=W1*=0\n",
    "y=sigma*np.random.randn(N)\n",
    "base=np.float64\n",
    "tfbase=tf.float64\n",
    "train_labels = np.expand_dims(y,1).astype(base)\n",
    "\n",
    "# Generate an empty np.array simply because it is a required parameter in run sampler, \n",
    "# but we do not need it when calculating gradients \n",
    "data = np.empty([N,D])\n",
    "labels = train_labels\n",
    "def test_error():\n",
    "    return 0"
   ]
  },
  {
   "cell_type": "code",
   "execution_count": 3,
   "metadata": {
    "collapsed": true
   },
   "outputs": [],
   "source": [
    "xPH = tf.placeholder(tfbase, [None,D])\n",
    "yPH = tf.placeholder(tfbase, [None,1],)\n",
    "W = tf.Variable(tf.zeros([D,1],tfbase),tfbase)\n",
    "all_weights = [W]\n",
    "w_shapes = [W.get_shape()]\n",
    "\n",
    "lamb0=tf.Variable(tf.ones([100,1],tfbase),tfbase)\n",
    "lamb1=tf.Variable(tf.ones([100,1],tfbase),tfbase)"
   ]
  },
  {
   "cell_type": "code",
   "execution_count": 4,
   "metadata": {
    "collapsed": true
   },
   "outputs": [],
   "source": [
    "# Create the negative likelihood function based on the log posterior formula\n",
    "def NLLi(y):\n",
    "    return (y-W[0,0]*W[1,0])**2/(2*(sigma**2))+c*(W[0,0]**2+W[1,0]**2)/(2*N)\n",
    "\n",
    "NLL=tf.reduce_mean(tf.map_fn(NLLi, yPH))\n",
    "\n",
    "# Update weights based on the new gradient (which is g=vt getting from SBPS.update()) \n",
    "# and Negative log likelihood using tf.train.GradientDescentOptimzer\n",
    "opt = tf.train.GradientDescentOptimizer(learning_rate=1)\n",
    "grads_and_vars = opt.compute_gradients(NLL,var_list=W)\n",
    "gradients, variables = zip(*grads_and_vars)\n",
    "weights = tf.reshape(variables[0],[D])\n",
    "gPH = tf.placeholder(tfbase,[D])\n",
    "grads_to_apply = []\n",
    "grads_to_apply.append(tf.reshape(gPH,[D,1]))\n",
    "grad_and_vars_to_apply=list(zip(grads_to_apply, variables))\n",
    "tf_train_step = opt.apply_gradients(grad_and_vars_to_apply)\n",
    "\n",
    "vPH=tf.placeholder(tfbase,[D])"
   ]
  },
  {
   "cell_type": "code",
   "execution_count": 6,
   "metadata": {
    "collapsed": true
   },
   "outputs": [],
   "source": [
    "# Get the gradients of W using opt.compute_gradients for each y and then calculate the mean of the gradients\n",
    "def single_grad(y):\n",
    "    NLLi1 = NLLi(y)\n",
    "    opt1 = tf.train.GradientDescentOptimizer(learning_rate=1)\n",
    "    grads_and_vars = opt1.compute_gradients(NLLi1, var_list=W)\n",
    "    gradients, variables = zip(*grads_and_vars)\n",
    "    return gradients[0]\n",
    "\n",
    "gradient_explicit = tf.reshape(tf.map_fn(single_grad, yPH),[-1,D]\n",
    "tf_grad_calc=tf.reduce_mean(gradient_explicit,0)\n",
    "\n",
    "# calculate the sample variance of the mini-batch\n",
    "better_gradient_variance_intermediate=tf.matmul(gradient_explicit,tf.reshape(vPH,[D,1]))\n",
    "tf_grad_var_calc=tf.nn.moments(better_gradient_variance_intermediate,[0])[1]"
   ]
  },
  {
   "cell_type": "code",
   "execution_count": 7,
   "metadata": {
    "collapsed": true
   },
   "outputs": [],
   "source": [
    "# wrapping tf functions to pass to run_sampler and generate_sbps_samples\n",
    "def grad_calc(data,labels):\n",
    "    return tf_grad_calc.eval(feed_dict={xPH: data, yPH: labels})\n",
    "def grad_var_calc(data,labels,v):\n",
    "    return tf_grad_var_calc.eval(feed_dict={xPH: data, yPH: labels, vPH: v})\n",
    "def train_step(g):\n",
    "    return tf_train_step.run(feed_dict={gPH: g})\n",
    "weights = flatten_tensor_list(all_weights)\n",
    "def get_weights():\n",
    "    return weights.eval()\n",
    "\n",
    "# function to assign weights\n",
    "assign_weights_ops = []\n",
    "curr_ind = 0\n",
    "w_to_assign = tf.placeholder(tfbase,[D],name='w_to_assign')\n",
    "for [weight,shape] in zip(all_weights,w_shapes):\n",
    "    assign_weights_ops.append(weight.assign(tf.reshape(w_to_assign[curr_ind:curr_ind + int(np.prod(shape))],shape)))\n",
    "    curr_ind += int(np.prod(shape))\n",
    "def set_weights(w):\n",
    "    for a_w in assign_weights_ops:\n",
    "        sess.run(a_w,feed_dict={w_to_assign:w})\n"
   ]
  },
  {
   "cell_type": "code",
   "execution_count": 8,
   "metadata": {
    "scrolled": true
   },
   "outputs": [
    {
     "name": "stdout",
     "output_type": "stream",
     "text": [
      "Running 1000 epochs (10000.0 iterations) per method\n",
      "Running SBPS, k = 3\n",
      "WARNING:tensorflow:From /home/qiankuang/anaconda3/lib/python3.6/site-packages/tensorflow/python/util/tf_should_use.py:170: initialize_all_variables (from tensorflow.python.ops.variables) is deprecated and will be removed after 2017-03-02.\n",
      "Instructions for updating:\n",
      "Use `tf.global_variables_initializer` instead.\n",
      "Evaluating Test error / NLL -  0\n",
      "Evaluating Test error / NLL -  0\n",
      "Time elapsed -  436.246  secs ( 7.27077  mins)\n",
      "Warning - minibatch variance smaller than  1e-15  calculated  1  times. Consider increasing minibatch size.\n",
      "Generating discrete samples from continuous SBPS trajectory\n",
      "Evaluating Test error -  0\n",
      "Number of bounces: 1678\n",
      "percent p(acc)>1:  0.05542312276519666\n",
      "percent rejections:  0.8322\n",
      "percent negative slope:  0.0261\n",
      "total travel time:  61.1994148914\n",
      "max trajectories:  0\n",
      "refreshments: 3\n"
     ]
    }
   ],
   "source": [
    "sess.run(tf.global_variables_initializer())\n",
    "# run samplers\n",
    "n_epochs=1000\n",
    "batch_size=100\n",
    "total_iter=n_epochs*(N/batch_size)\n",
    "NLL_factor = total_iter\n",
    "print('Running ' + str(n_epochs) + ' epochs (' +str(total_iter) + ' iterations) per method')\n",
    "\n",
    "\n",
    "W_start = np.array([-3.11,0.01])\n",
    "k = 3\n",
    "plt_labels = []\n",
    "trajectories = []\n",
    "NLLs = []\n",
    "\n",
    "# SBPS\n",
    "k = 3\n",
    "print('Running SBPS, k = ' + str(k))\n",
    "sess.run(tf.initialize_all_variables())\n",
    "my_SBPS = SBPS(D,N,batch_size,k)\n",
    "NLL_SBPS_0,samples_SBPS_0 = run_sampler(my_SBPS,get_weights,set_weights,\\\n",
    "                                                       test_error,total_iter,n_epochs,NLL_factor,\\\n",
    "                                                       data,labels,batch_size,grad_calc,\\\n",
    "                                                       train_step,grad_var_calc,W_init=W_start)\n",
    "NLL_SBPS,samples_SBPS = generate_SBPS_samples(my_SBPS,get_weights,set_weights,test_error,\\\n",
    "                                                train_step,NLL_factor,W_init=W_start)\n",
    "\n",
    "\n",
    "#NLL_SBPS_0,acc_SBPS,samples_SBPS_0 = runOptimizationExplicit(my_SBPS,0,W_start)\n",
    "#NLL_SBPS,samples_SBPS = generate_SBPS_samples(my_SBPS,W_start,W,N)\n",
    "my_SBPS.print_summary()\n",
    "plt_labels.append('SBPS')\n",
    "trajectories.append(samples_SBPS)\n",
    "NLLs.append(NLL_SBPS)\n"
   ]
  },
  {
   "cell_type": "code",
   "execution_count": 9,
   "metadata": {
    "scrolled": true
   },
   "outputs": [
    {
     "data": {
      "text/plain": [
       "[<matplotlib.lines.Line2D at 0x7f99ac7f7dd8>]"
      ]
     },
     "execution_count": 9,
     "metadata": {},
     "output_type": "execute_result"
    },
    {
     "data": {
      "image/png": "[encoded data removed]",
      "text/plain": [
       "<matplotlib.figure.Figure at 0x7f99c0410358>"
      ]
     },
     "metadata": {},
     "output_type": "display_data"
    }
   ],
   "source": [
    "#Creat the plot of w0 and w1\n",
    "plt.rcParams['font.size'] = 16\n",
    "plt.rcParams['font.family']='serif'\n",
    "plt.rcParams['mathtext.default']='regular'\n",
    "plt.plot(trajectories[0][:-1,0],trajectories[0][:-1,1],label=plt_labels[0])"
   ]
  },
  {
   "cell_type": "code",
   "execution_count": null,
   "metadata": {
    "collapsed": true
   },
   "outputs": [],
   "source": []
  },
  {
   "cell_type": "code",
   "execution_count": null,
   "metadata": {
    "collapsed": true
   },
   "outputs": [],
   "source": []
  }
 ],
 "metadata": {
  "kernelspec": {
   "display_name": "Python 3",
   "language": "python",
   "name": "python3"
  },
  "language_info": {
   "codemirror_mode": {
    "name": "ipython",
    "version": 3
   },
   "file_extension": ".py",
   "mimetype": "text/x-python",
   "name": "python",
   "nbconvert_exporter": "python",
   "pygments_lexer": "ipython3",
   "version": "3.6.1"
  }
 },
 "nbformat": 4,
 "nbformat_minor": 2
}
